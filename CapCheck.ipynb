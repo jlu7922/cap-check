{
 "cells": [
  {
   "cell_type": "markdown",
   "id": "b6915321-8436-4e16-9679-5a3565957159",
   "metadata": {},
   "source": [
    "\n",
    "### Save MMR XLSX as CSV UTF-8 First ###\n",
    "\n",
    "---"
   ]
  },
  {
   "cell_type": "code",
   "execution_count": 13,
   "id": "b4336abb-250f-41b5-a65e-3110000ecefa",
   "metadata": {},
   "outputs": [],
   "source": [
    "import pandas as pd\n",
    "import re"
   ]
  },
  {
   "cell_type": "code",
   "execution_count": 14,
   "id": "3fe76736-dec7-4ea1-a75f-bdf259cd98bc",
   "metadata": {},
   "outputs": [],
   "source": [
    "file_path = \"MMR byIPA_20250203.csv\"  \n",
    "df = pd.read_csv(file_path, low_memory=False)\n",
    "sheetname = \"202502\"\n",
    "period = 202502"
   ]
  },
  {
   "cell_type": "code",
   "execution_count": 15,
   "id": "5021ca55-c4a5-4a6b-bc4b-3a9df82166e2",
   "metadata": {},
   "outputs": [],
   "source": [
    "# Function to remove illegal characters\n",
    "def remove_illegal_chars(value):\n",
    "    if isinstance(value, str):\n",
    "        return re.sub(r\"[\\x00-\\x1F\\x7F-\\x9F]\", \"\", value)\n",
    "    return value"
   ]
  },
  {
   "cell_type": "code",
   "execution_count": 16,
   "id": "d10226a8-9e33-45a5-808e-d331f56dfd89",
   "metadata": {},
   "outputs": [],
   "source": [
    "filtered_period_df = df[df[\"PERIOD\"] == period]"
   ]
  },
  {
   "cell_type": "code",
   "execution_count": 17,
   "id": "b8da31ce-2593-4962-8f80-4d64d39f6395",
   "metadata": {},
   "outputs": [],
   "source": [
    "# Clean the DataFrame to remove illegal characters\n",
    "filtered_period_df = filtered_period_df.map(remove_illegal_chars)"
   ]
  },
  {
   "cell_type": "code",
   "execution_count": 18,
   "id": "16f5fd7c-bbcf-4fe5-bee8-c1a977d0ce51",
   "metadata": {},
   "outputs": [],
   "source": [
    "columns_to_convert = [\n",
    "    \"Total Part A MA Payment\", \"Total Part B MA Payment\", \n",
    "    \"Rebate for Part A Cost Sharing Reduction\", \"Rebate for Part B Cost Sharing Reduction\", \n",
    "    \"Rebate for Other Part A Mandatory Supplemental Benefits\", \n",
    "    \"Rebate for Other Part B Mandatory Supplemental Benefits\", \n",
    "    \"Rebate for Part D Supplemental Benefits – Part A Amount\", \n",
    "    \"Rebate for Part D Supplemental Benefits – Part B Amount\", \n",
    "    \"Rebate for Part B Premium Reduction – Part A Amount\", \n",
    "    \"Rebate for Part B Premium Reduction – Part B Amount\"\n",
    "]"
   ]
  },
  {
   "cell_type": "code",
   "execution_count": 19,
   "id": "0e5c34cc-be1d-4aa6-a079-bdba86788e3c",
   "metadata": {},
   "outputs": [],
   "source": [
    "# Define the groups for specific sheets\n",
    "sheet_groups = {\n",
    "    \"Blue Zone\": [\n",
    "        \"BLUE ZONES FOR AMG IPA\", \n",
    "        \"BLUE ZONES FOR IN PHYSICIANS IPA\", \n",
    "        \"BLUE ZONES HEALTH - MARINA\",\n",
    "        \"BLUE ZONES HEALTH OF CALIFORNIA\", \n",
    "        \"KOVA HEALTHCARE IPA\"\n",
    "    ],\n",
    "    \"Passion for Healing\": [\"PASSION FOR HEALING MEDICAL GROUP\"],\n",
    "    \"Angeles IPA\": [\"ANGELES IPA\"],\n",
    "    \"Qualcare IPA\": [\"QUALCARE IPA\"],\n",
    "    \"Heritage\": [\n",
    "        \"HPN-ADOC MEDICAL GROUP\", \n",
    "        \"HPN-BAKERSFIELD FAMILY MEDICAL GROUP\", \n",
    "        \"HPN-CCPN\", \n",
    "        \"HPN-DESERT OASIS HEALTHCARE\",\n",
    "        \"HPN-HERITAGE SIERRA MEDICAL GROUP\",\n",
    "        \"HPN-HERITAGE VICTOR VALLEY MEDICAL GROUP\",\n",
    "        \"HPN-HIGH DESERT MEDICAL GROUP\", \n",
    "        \"HPN-LAKESIDE MEDICAL GROUP\", \n",
    "        \"HPN-REGAL MEDICAL GROUP\"\n",
    "    ],\n",
    "    \"ICPMG\": [\"IMPERIAL COUNTY PHYSICIANS MEDICAL GROUP\"],\n",
    "    \"KAMG\": [\"KOREAN AMERICAN MEDICAL GROUP\"],\n",
    "    \"SCCIPA\": [\"SANTA CLARA COUNTY IPA\"],\n",
    "    \"CPN\": [\n",
    "        \"CPN FOR AMADA HEALTH\", \n",
    "        \"CPN FOR HORIZON VALLLEY MG\"\n",
    "    ],\n",
    "    \"First Valley Medical Group\" : [\"FIRST VALLEY MEDICAL GROUP\"]\n",
    "}"
   ]
  },
  {
   "cell_type": "code",
   "execution_count": null,
   "id": "742df61f-b215-4b53-a1c0-56567090a46a",
   "metadata": {},
   "outputs": [],
   "source": [
    "# Save the results to an Excel file\n",
    "with pd.ExcelWriter(\"output.xlsx\", engine=\"openpyxl\") as writer:\n",
    "    # Write the filtered data to a new sheet named ex: \"202501\"\n",
    "    filtered_period_df.to_excel(writer, sheet_name= sheetname, index=False)\n",
    "\n",
    "    # Write each specific group to its own sheet\n",
    "    for sheet_name, ipa_list in sheet_groups.items():\n",
    "        filtered_df = filtered_period_df[filtered_period_df[\"IPA\"].isin(ipa_list)]\n",
    "\n",
    "        # Convert specified columns to numeric\n",
    "        for col in columns_to_convert:\n",
    "            filtered_df[col] = pd.to_numeric(filtered_df[col], errors='ignore')  # Convert columns to numbers\n",
    "        \n",
    "        # Write the filtered data to the sheet\n",
    "        filtered_df.to_excel(writer, sheet_name=sheet_name, index=False)\n",
    "\n",
    "print(\"Data has been saved to 'output.xlsx'.\")"
   ]
  }
 ],
 "metadata": {
  "kernelspec": {
   "display_name": "base",
   "language": "python",
   "name": "python3"
  },
  "language_info": {
   "codemirror_mode": {
    "name": "ipython",
    "version": 3
   },
   "file_extension": ".py",
   "mimetype": "text/x-python",
   "name": "python",
   "nbconvert_exporter": "python",
   "pygments_lexer": "ipython3",
   "version": "3.12.7"
  }
 },
 "nbformat": 4,
 "nbformat_minor": 5
}
