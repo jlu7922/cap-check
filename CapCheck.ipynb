{
 "cells": [
  {
   "cell_type": "markdown",
   "id": "b6915321-8436-4e16-9679-5a3565957159",
   "metadata": {},
   "source": [
    "\n",
    "### Save MMR XLSX as CSV UTF-8 First ###\n",
    "\n",
    "---"
   ]
  },
  {
   "cell_type": "code",
   "execution_count": 1,
   "id": "b4336abb-250f-41b5-a65e-3110000ecefa",
   "metadata": {},
   "outputs": [],
   "source": [
    "import pandas as pd\n",
    "import re"
   ]
  },
  {
   "cell_type": "code",
   "execution_count": 2,
   "id": "3fe76736-dec7-4ea1-a75f-bdf259cd98bc",
   "metadata": {},
   "outputs": [],
   "source": [
    "file_path = \"MMR byIPA_20250203.csv\"  \n",
    "df = pd.read_csv(file_path, low_memory=False)\n",
    "sheetname = \"202502\"\n",
    "period = 202502"
   ]
  },
  {
   "cell_type": "code",
   "execution_count": 3,
   "id": "5021ca55-c4a5-4a6b-bc4b-3a9df82166e2",
   "metadata": {},
   "outputs": [],
   "source": [
    "# Function to remove illegal characters\n",
    "def remove_illegal_chars(value):\n",
    "    if isinstance(value, str):\n",
    "        return re.sub(r\"[\\x00-\\x1F\\x7F-\\x9F]\", \"\", value)\n",
    "    return value"
   ]
  },
  {
   "cell_type": "code",
   "execution_count": 4,
   "id": "d10226a8-9e33-45a5-808e-d331f56dfd89",
   "metadata": {},
   "outputs": [],
   "source": [
    "filtered_period_df = df[df[\"PERIOD\"] == period]"
   ]
  },
  {
   "cell_type": "code",
   "execution_count": 5,
   "id": "b8da31ce-2593-4962-8f80-4d64d39f6395",
   "metadata": {},
   "outputs": [],
   "source": [
    "# Clean the DataFrame to remove illegal characters\n",
    "filtered_period_df = filtered_period_df.map(remove_illegal_chars)"
   ]
  },
  {
   "cell_type": "code",
   "execution_count": 6,
   "id": "16f5fd7c-bbcf-4fe5-bee8-c1a977d0ce51",
   "metadata": {},
   "outputs": [],
   "source": [
    "columns_to_convert = [\n",
    "    \"Total Part A MA Payment\", \"Total Part B MA Payment\", \n",
    "    \"Rebate for Part A Cost Sharing Reduction\", \"Rebate for Part B Cost Sharing Reduction\", \n",
    "    \"Rebate for Other Part A Mandatory Supplemental Benefits\", \n",
    "    \"Rebate for Other Part B Mandatory Supplemental Benefits\", \n",
    "    \"Rebate for Part D Supplemental Benefits - Part A Amount\", \n",
    "    \"Rebate for Part D Supplemental Benefits - Part B Amount\", \n",
    "    \"Rebate for Part B Premium Reduction - Part A Amount\", \n",
    "    \"Rebate for Part B Premium Reduction - Part B Amount\"\n",
    "]"
   ]
  },
  {
   "cell_type": "code",
   "execution_count": 7,
   "id": "0e5c34cc-be1d-4aa6-a079-bdba86788e3c",
   "metadata": {},
   "outputs": [],
   "source": [
    "# Define the groups for specific sheets\n",
    "sheet_groups = {\n",
    "    \"Blue Zone\": [\n",
    "        \"BLUE ZONE FOR AMG IPA\", \n",
    "        \"BLUE ZONE FOR IN PHYSICIANS IPA\", \n",
    "        \"BLUE ZONE HEALTH - MARINA\",\n",
    "        \"BLUE ZONE HEALTH OF CALIFORNIA\", \n",
    "        \"KOVA HEALTHCARE IPA\"\n",
    "    ],\n",
    "    \"Passion for Healing\": [\"PASSION FOR HEALING MEDICAL GROUP\"],\n",
    "    \"Angeles IPA\": [\"ANGELES IPA\"],\n",
    "    \"Qualcare IPA\": [\"QUALCARE IPA\"],\n",
    "    \"Heritage\": [\n",
    "        \"HPN-ADOC MEDICAL GROUP\", \n",
    "        \"HPN-BAKERSFIELD FAMILY MEDICAL GROUP\", \n",
    "        \"HPN-CCPN\", \n",
    "        \"HPN-DESERT OASIS HEALTHCARE\", \n",
    "        \"HPN-HIGH DESERT MEDICAL GROUP\", \n",
    "        \"HPN-LAKESIDE MEDICAL GROUP\", \n",
    "        \"HPN-REGAL MEDICAL GROUP\"\n",
    "    ],\n",
    "    \"ICPMG\": [\"IMPERIAL COUNTY PHYSICIANS MEDICAL GROUP\"],\n",
    "    \"KAMG\": [\"KOREAN AMERICAN MEDICAL GROUP\"],\n",
    "    \"SCCIPA\": [\"SANTA CLARA COUNTY IPA\"],\n",
    "    \"CPN\": [\n",
    "        \"CPN FOR AMADA HEALTH\", \n",
    "        \"CPN FOR HORIZON VALLLEY MG\"\n",
    "    ],\n",
    "    \"First Valley Medical Group\" : [\"FIRST VALLEY MEDICAL GROUP\"]\n",
    "}"
   ]
  },
  {
   "cell_type": "code",
   "execution_count": 8,
   "id": "742df61f-b215-4b53-a1c0-56567090a46a",
   "metadata": {},
   "outputs": [
    {
     "ename": "KeyboardInterrupt",
     "evalue": "",
     "output_type": "error",
     "traceback": [
      "\u001b[1;31m---------------------------------------------------------------------------\u001b[0m",
      "\u001b[1;31mKeyboardInterrupt\u001b[0m                         Traceback (most recent call last)",
      "Cell \u001b[1;32mIn[8], line 4\u001b[0m\n\u001b[0;32m      1\u001b[0m \u001b[38;5;66;03m# Save the results to an Excel file\u001b[39;00m\n\u001b[0;32m      2\u001b[0m \u001b[38;5;28;01mwith\u001b[39;00m pd\u001b[38;5;241m.\u001b[39mExcelWriter(\u001b[38;5;124m\"\u001b[39m\u001b[38;5;124moutput.xlsx\u001b[39m\u001b[38;5;124m\"\u001b[39m, engine\u001b[38;5;241m=\u001b[39m\u001b[38;5;124m\"\u001b[39m\u001b[38;5;124mopenpyxl\u001b[39m\u001b[38;5;124m\"\u001b[39m) \u001b[38;5;28;01mas\u001b[39;00m writer:\n\u001b[0;32m      3\u001b[0m     \u001b[38;5;66;03m# Write the filtered data to a new sheet named \"202501\"\u001b[39;00m\n\u001b[1;32m----> 4\u001b[0m     filtered_period_df\u001b[38;5;241m.\u001b[39mto_excel(writer, sheet_name\u001b[38;5;241m=\u001b[39m\u001b[38;5;124m\"\u001b[39m\u001b[38;5;124m202501\u001b[39m\u001b[38;5;124m\"\u001b[39m, index\u001b[38;5;241m=\u001b[39m\u001b[38;5;28;01mFalse\u001b[39;00m)\n\u001b[0;32m      6\u001b[0m     \u001b[38;5;66;03m# Write each specific group to its own sheet\u001b[39;00m\n\u001b[0;32m      7\u001b[0m     \u001b[38;5;28;01mfor\u001b[39;00m sheet_name, ipa_list \u001b[38;5;129;01min\u001b[39;00m sheet_groups\u001b[38;5;241m.\u001b[39mitems():\n",
      "File \u001b[1;32mc:\\Users\\jason.lu\\AppData\\Local\\anaconda3\\Lib\\site-packages\\pandas\\util\\_decorators.py:333\u001b[0m, in \u001b[0;36mdeprecate_nonkeyword_arguments.<locals>.decorate.<locals>.wrapper\u001b[1;34m(*args, **kwargs)\u001b[0m\n\u001b[0;32m    327\u001b[0m \u001b[38;5;28;01mif\u001b[39;00m \u001b[38;5;28mlen\u001b[39m(args) \u001b[38;5;241m>\u001b[39m num_allow_args:\n\u001b[0;32m    328\u001b[0m     warnings\u001b[38;5;241m.\u001b[39mwarn(\n\u001b[0;32m    329\u001b[0m         msg\u001b[38;5;241m.\u001b[39mformat(arguments\u001b[38;5;241m=\u001b[39m_format_argument_list(allow_args)),\n\u001b[0;32m    330\u001b[0m         \u001b[38;5;167;01mFutureWarning\u001b[39;00m,\n\u001b[0;32m    331\u001b[0m         stacklevel\u001b[38;5;241m=\u001b[39mfind_stack_level(),\n\u001b[0;32m    332\u001b[0m     )\n\u001b[1;32m--> 333\u001b[0m \u001b[38;5;28;01mreturn\u001b[39;00m func(\u001b[38;5;241m*\u001b[39margs, \u001b[38;5;241m*\u001b[39m\u001b[38;5;241m*\u001b[39mkwargs)\n",
      "File \u001b[1;32mc:\\Users\\jason.lu\\AppData\\Local\\anaconda3\\Lib\\site-packages\\pandas\\core\\generic.py:2417\u001b[0m, in \u001b[0;36mNDFrame.to_excel\u001b[1;34m(self, excel_writer, sheet_name, na_rep, float_format, columns, header, index, index_label, startrow, startcol, engine, merge_cells, inf_rep, freeze_panes, storage_options, engine_kwargs)\u001b[0m\n\u001b[0;32m   2404\u001b[0m \u001b[38;5;28;01mfrom\u001b[39;00m \u001b[38;5;21;01mpandas\u001b[39;00m\u001b[38;5;21;01m.\u001b[39;00m\u001b[38;5;21;01mio\u001b[39;00m\u001b[38;5;21;01m.\u001b[39;00m\u001b[38;5;21;01mformats\u001b[39;00m\u001b[38;5;21;01m.\u001b[39;00m\u001b[38;5;21;01mexcel\u001b[39;00m \u001b[38;5;28;01mimport\u001b[39;00m ExcelFormatter\n\u001b[0;32m   2406\u001b[0m formatter \u001b[38;5;241m=\u001b[39m ExcelFormatter(\n\u001b[0;32m   2407\u001b[0m     df,\n\u001b[0;32m   2408\u001b[0m     na_rep\u001b[38;5;241m=\u001b[39mna_rep,\n\u001b[1;32m   (...)\u001b[0m\n\u001b[0;32m   2415\u001b[0m     inf_rep\u001b[38;5;241m=\u001b[39minf_rep,\n\u001b[0;32m   2416\u001b[0m )\n\u001b[1;32m-> 2417\u001b[0m formatter\u001b[38;5;241m.\u001b[39mwrite(\n\u001b[0;32m   2418\u001b[0m     excel_writer,\n\u001b[0;32m   2419\u001b[0m     sheet_name\u001b[38;5;241m=\u001b[39msheet_name,\n\u001b[0;32m   2420\u001b[0m     startrow\u001b[38;5;241m=\u001b[39mstartrow,\n\u001b[0;32m   2421\u001b[0m     startcol\u001b[38;5;241m=\u001b[39mstartcol,\n\u001b[0;32m   2422\u001b[0m     freeze_panes\u001b[38;5;241m=\u001b[39mfreeze_panes,\n\u001b[0;32m   2423\u001b[0m     engine\u001b[38;5;241m=\u001b[39mengine,\n\u001b[0;32m   2424\u001b[0m     storage_options\u001b[38;5;241m=\u001b[39mstorage_options,\n\u001b[0;32m   2425\u001b[0m     engine_kwargs\u001b[38;5;241m=\u001b[39mengine_kwargs,\n\u001b[0;32m   2426\u001b[0m )\n",
      "File \u001b[1;32mc:\\Users\\jason.lu\\AppData\\Local\\anaconda3\\Lib\\site-packages\\pandas\\io\\formats\\excel.py:952\u001b[0m, in \u001b[0;36mExcelFormatter.write\u001b[1;34m(self, writer, sheet_name, startrow, startcol, freeze_panes, engine, storage_options, engine_kwargs)\u001b[0m\n\u001b[0;32m    949\u001b[0m     need_save \u001b[38;5;241m=\u001b[39m \u001b[38;5;28;01mTrue\u001b[39;00m\n\u001b[0;32m    951\u001b[0m \u001b[38;5;28;01mtry\u001b[39;00m:\n\u001b[1;32m--> 952\u001b[0m     writer\u001b[38;5;241m.\u001b[39m_write_cells(\n\u001b[0;32m    953\u001b[0m         formatted_cells,\n\u001b[0;32m    954\u001b[0m         sheet_name,\n\u001b[0;32m    955\u001b[0m         startrow\u001b[38;5;241m=\u001b[39mstartrow,\n\u001b[0;32m    956\u001b[0m         startcol\u001b[38;5;241m=\u001b[39mstartcol,\n\u001b[0;32m    957\u001b[0m         freeze_panes\u001b[38;5;241m=\u001b[39mfreeze_panes,\n\u001b[0;32m    958\u001b[0m     )\n\u001b[0;32m    959\u001b[0m \u001b[38;5;28;01mfinally\u001b[39;00m:\n\u001b[0;32m    960\u001b[0m     \u001b[38;5;66;03m# make sure to close opened file handles\u001b[39;00m\n\u001b[0;32m    961\u001b[0m     \u001b[38;5;28;01mif\u001b[39;00m need_save:\n",
      "File \u001b[1;32mc:\\Users\\jason.lu\\AppData\\Local\\anaconda3\\Lib\\site-packages\\pandas\\io\\excel\\_openpyxl.py:486\u001b[0m, in \u001b[0;36mOpenpyxlWriter._write_cells\u001b[1;34m(self, cells, sheet_name, startrow, startcol, freeze_panes)\u001b[0m\n\u001b[0;32m    481\u001b[0m     freeze_panes \u001b[38;5;241m=\u001b[39m cast(\u001b[38;5;28mtuple\u001b[39m[\u001b[38;5;28mint\u001b[39m, \u001b[38;5;28mint\u001b[39m], freeze_panes)\n\u001b[0;32m    482\u001b[0m     wks\u001b[38;5;241m.\u001b[39mfreeze_panes \u001b[38;5;241m=\u001b[39m wks\u001b[38;5;241m.\u001b[39mcell(\n\u001b[0;32m    483\u001b[0m         row\u001b[38;5;241m=\u001b[39mfreeze_panes[\u001b[38;5;241m0\u001b[39m] \u001b[38;5;241m+\u001b[39m \u001b[38;5;241m1\u001b[39m, column\u001b[38;5;241m=\u001b[39mfreeze_panes[\u001b[38;5;241m1\u001b[39m] \u001b[38;5;241m+\u001b[39m \u001b[38;5;241m1\u001b[39m\n\u001b[0;32m    484\u001b[0m     )\n\u001b[1;32m--> 486\u001b[0m \u001b[38;5;28;01mfor\u001b[39;00m cell \u001b[38;5;129;01min\u001b[39;00m cells:\n\u001b[0;32m    487\u001b[0m     xcell \u001b[38;5;241m=\u001b[39m wks\u001b[38;5;241m.\u001b[39mcell(\n\u001b[0;32m    488\u001b[0m         row\u001b[38;5;241m=\u001b[39mstartrow \u001b[38;5;241m+\u001b[39m cell\u001b[38;5;241m.\u001b[39mrow \u001b[38;5;241m+\u001b[39m \u001b[38;5;241m1\u001b[39m, column\u001b[38;5;241m=\u001b[39mstartcol \u001b[38;5;241m+\u001b[39m cell\u001b[38;5;241m.\u001b[39mcol \u001b[38;5;241m+\u001b[39m \u001b[38;5;241m1\u001b[39m\n\u001b[0;32m    489\u001b[0m     )\n\u001b[0;32m    490\u001b[0m     xcell\u001b[38;5;241m.\u001b[39mvalue, fmt \u001b[38;5;241m=\u001b[39m \u001b[38;5;28mself\u001b[39m\u001b[38;5;241m.\u001b[39m_value_with_fmt(cell\u001b[38;5;241m.\u001b[39mval)\n",
      "File \u001b[1;32mc:\\Users\\jason.lu\\AppData\\Local\\anaconda3\\Lib\\site-packages\\pandas\\io\\formats\\excel.py:889\u001b[0m, in \u001b[0;36mExcelFormatter.get_formatted_cells\u001b[1;34m(self)\u001b[0m\n\u001b[0;32m    888\u001b[0m \u001b[38;5;28;01mdef\u001b[39;00m \u001b[38;5;21mget_formatted_cells\u001b[39m(\u001b[38;5;28mself\u001b[39m) \u001b[38;5;241m-\u001b[39m\u001b[38;5;241m>\u001b[39m Iterable[ExcelCell]:\n\u001b[1;32m--> 889\u001b[0m     \u001b[38;5;28;01mfor\u001b[39;00m cell \u001b[38;5;129;01min\u001b[39;00m itertools\u001b[38;5;241m.\u001b[39mchain(\u001b[38;5;28mself\u001b[39m\u001b[38;5;241m.\u001b[39m_format_header(), \u001b[38;5;28mself\u001b[39m\u001b[38;5;241m.\u001b[39m_format_body()):\n\u001b[0;32m    890\u001b[0m         cell\u001b[38;5;241m.\u001b[39mval \u001b[38;5;241m=\u001b[39m \u001b[38;5;28mself\u001b[39m\u001b[38;5;241m.\u001b[39m_format_value(cell\u001b[38;5;241m.\u001b[39mval)\n\u001b[0;32m    891\u001b[0m         \u001b[38;5;28;01myield\u001b[39;00m cell\n",
      "File \u001b[1;32mc:\\Users\\jason.lu\\AppData\\Local\\anaconda3\\Lib\\site-packages\\pandas\\io\\formats\\excel.py:786\u001b[0m, in \u001b[0;36mExcelFormatter._format_regular_rows\u001b[1;34m(self)\u001b[0m\n\u001b[0;32m    783\u001b[0m \u001b[38;5;28;01melse\u001b[39;00m:\n\u001b[0;32m    784\u001b[0m     coloffset \u001b[38;5;241m=\u001b[39m \u001b[38;5;241m0\u001b[39m\n\u001b[1;32m--> 786\u001b[0m \u001b[38;5;28;01myield from\u001b[39;00m \u001b[38;5;28mself\u001b[39m\u001b[38;5;241m.\u001b[39m_generate_body(coloffset)\n",
      "File \u001b[1;32mc:\\Users\\jason.lu\\AppData\\Local\\anaconda3\\Lib\\site-packages\\pandas\\io\\formats\\excel.py:877\u001b[0m, in \u001b[0;36mExcelFormatter._generate_body\u001b[1;34m(self, coloffset)\u001b[0m\n\u001b[0;32m    875\u001b[0m series \u001b[38;5;241m=\u001b[39m \u001b[38;5;28mself\u001b[39m\u001b[38;5;241m.\u001b[39mdf\u001b[38;5;241m.\u001b[39miloc[:, colidx]\n\u001b[0;32m    876\u001b[0m \u001b[38;5;28;01mfor\u001b[39;00m i, val \u001b[38;5;129;01min\u001b[39;00m \u001b[38;5;28menumerate\u001b[39m(series):\n\u001b[1;32m--> 877\u001b[0m     \u001b[38;5;28;01myield\u001b[39;00m CssExcelCell(\n\u001b[0;32m    878\u001b[0m         row\u001b[38;5;241m=\u001b[39m\u001b[38;5;28mself\u001b[39m\u001b[38;5;241m.\u001b[39mrowcounter \u001b[38;5;241m+\u001b[39m i,\n\u001b[0;32m    879\u001b[0m         col\u001b[38;5;241m=\u001b[39mcolidx \u001b[38;5;241m+\u001b[39m coloffset,\n\u001b[0;32m    880\u001b[0m         val\u001b[38;5;241m=\u001b[39mval,\n\u001b[0;32m    881\u001b[0m         style\u001b[38;5;241m=\u001b[39m\u001b[38;5;28;01mNone\u001b[39;00m,\n\u001b[0;32m    882\u001b[0m         css_styles\u001b[38;5;241m=\u001b[39m\u001b[38;5;28mgetattr\u001b[39m(\u001b[38;5;28mself\u001b[39m\u001b[38;5;241m.\u001b[39mstyler, \u001b[38;5;124m\"\u001b[39m\u001b[38;5;124mctx\u001b[39m\u001b[38;5;124m\"\u001b[39m, \u001b[38;5;28;01mNone\u001b[39;00m),\n\u001b[0;32m    883\u001b[0m         css_row\u001b[38;5;241m=\u001b[39mi,\n\u001b[0;32m    884\u001b[0m         css_col\u001b[38;5;241m=\u001b[39mcolidx,\n\u001b[0;32m    885\u001b[0m         css_converter\u001b[38;5;241m=\u001b[39m\u001b[38;5;28mself\u001b[39m\u001b[38;5;241m.\u001b[39mstyle_converter,\n\u001b[0;32m    886\u001b[0m     )\n",
      "File \u001b[1;32mc:\\Users\\jason.lu\\AppData\\Local\\anaconda3\\Lib\\site-packages\\pandas\\io\\formats\\excel.py:85\u001b[0m, in \u001b[0;36mCssExcelCell.__init__\u001b[1;34m(self, row, col, val, style, css_styles, css_row, css_col, css_converter, **kwargs)\u001b[0m\n\u001b[0;32m     84\u001b[0m \u001b[38;5;28;01mclass\u001b[39;00m \u001b[38;5;21;01mCssExcelCell\u001b[39;00m(ExcelCell):\n\u001b[1;32m---> 85\u001b[0m     \u001b[38;5;28;01mdef\u001b[39;00m \u001b[38;5;21m__init__\u001b[39m(\n\u001b[0;32m     86\u001b[0m         \u001b[38;5;28mself\u001b[39m,\n\u001b[0;32m     87\u001b[0m         row: \u001b[38;5;28mint\u001b[39m,\n\u001b[0;32m     88\u001b[0m         col: \u001b[38;5;28mint\u001b[39m,\n\u001b[0;32m     89\u001b[0m         val,\n\u001b[0;32m     90\u001b[0m         style: \u001b[38;5;28mdict\u001b[39m \u001b[38;5;241m|\u001b[39m \u001b[38;5;28;01mNone\u001b[39;00m,\n\u001b[0;32m     91\u001b[0m         css_styles: \u001b[38;5;28mdict\u001b[39m[\u001b[38;5;28mtuple\u001b[39m[\u001b[38;5;28mint\u001b[39m, \u001b[38;5;28mint\u001b[39m], \u001b[38;5;28mlist\u001b[39m[\u001b[38;5;28mtuple\u001b[39m[\u001b[38;5;28mstr\u001b[39m, Any]]] \u001b[38;5;241m|\u001b[39m \u001b[38;5;28;01mNone\u001b[39;00m,\n\u001b[0;32m     92\u001b[0m         css_row: \u001b[38;5;28mint\u001b[39m,\n\u001b[0;32m     93\u001b[0m         css_col: \u001b[38;5;28mint\u001b[39m,\n\u001b[0;32m     94\u001b[0m         css_converter: Callable \u001b[38;5;241m|\u001b[39m \u001b[38;5;28;01mNone\u001b[39;00m,\n\u001b[0;32m     95\u001b[0m         \u001b[38;5;241m*\u001b[39m\u001b[38;5;241m*\u001b[39mkwargs,\n\u001b[0;32m     96\u001b[0m     ) \u001b[38;5;241m-\u001b[39m\u001b[38;5;241m>\u001b[39m \u001b[38;5;28;01mNone\u001b[39;00m:\n\u001b[0;32m     97\u001b[0m         \u001b[38;5;28;01mif\u001b[39;00m css_styles \u001b[38;5;129;01mand\u001b[39;00m css_converter:\n\u001b[0;32m     98\u001b[0m             \u001b[38;5;66;03m# Use dict to get only one (case-insensitive) declaration per property\u001b[39;00m\n\u001b[0;32m     99\u001b[0m             declaration_dict \u001b[38;5;241m=\u001b[39m {\n\u001b[0;32m    100\u001b[0m                 prop\u001b[38;5;241m.\u001b[39mlower(): val \u001b[38;5;28;01mfor\u001b[39;00m prop, val \u001b[38;5;129;01min\u001b[39;00m css_styles[css_row, css_col]\n\u001b[0;32m    101\u001b[0m             }\n",
      "\u001b[1;31mKeyboardInterrupt\u001b[0m: "
     ]
    }
   ],
   "source": [
    "# Save the results to an Excel file\n",
    "with pd.ExcelWriter(\"output.xlsx\", engine=\"openpyxl\") as writer:\n",
    "    # Write the filtered data to a new sheet named ex: \"202501\"\n",
    "    filtered_period_df.to_excel(writer, sheet_name= sheetname, index=False)\n",
    "\n",
    "    # Write each specific group to its own sheet\n",
    "    for sheet_name, ipa_list in sheet_groups.items():\n",
    "        filtered_df = filtered_period_df[filtered_period_df[\"IPA\"].isin(ipa_list)]\n",
    "\n",
    "        # Convert specified columns to numeric\n",
    "        for col in columns_to_convert:\n",
    "            filtered_df[col] = pd.to_numeric(filtered_df[col], errors='ignore')  # Convert columns to numbers\n",
    "        \n",
    "        # Write the filtered data to the sheet\n",
    "        filtered_df.to_excel(writer, sheet_name=sheet_name, index=False)\n",
    "\n",
    "print(\"Data has been saved to 'output.xlsx'.\")"
   ]
  }
 ],
 "metadata": {
  "kernelspec": {
   "display_name": "base",
   "language": "python",
   "name": "python3"
  },
  "language_info": {
   "codemirror_mode": {
    "name": "ipython",
    "version": 3
   },
   "file_extension": ".py",
   "mimetype": "text/x-python",
   "name": "python",
   "nbconvert_exporter": "python",
   "pygments_lexer": "ipython3",
   "version": "3.12.7"
  }
 },
 "nbformat": 4,
 "nbformat_minor": 5
}
