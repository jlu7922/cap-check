{
 "cells": [
  {
   "cell_type": "markdown",
   "id": "b6915321-8436-4e16-9679-5a3565957159",
   "metadata": {},
   "source": [
    "\n",
    "### Save MMR XLSX as CSV UTF-8 First ###\n",
    "\n",
    "---"
   ]
  },
  {
   "cell_type": "code",
   "execution_count": 1,
   "id": "b4336abb-250f-41b5-a65e-3110000ecefa",
   "metadata": {},
   "outputs": [],
   "source": [
    "import pandas as pd\n",
    "import re"
   ]
  },
  {
   "cell_type": "code",
   "execution_count": 2,
   "id": "3fe76736-dec7-4ea1-a75f-bdf259cd98bc",
   "metadata": {},
   "outputs": [],
   "source": [
    "file_path = \"MMR byIPA_20250203.csv\"  \n",
    "df = pd.read_csv(file_path, low_memory=False)\n",
    "sheetname = \"202502\"\n",
    "period = 202502"
   ]
  },
  {
   "cell_type": "code",
   "execution_count": 3,
   "id": "5021ca55-c4a5-4a6b-bc4b-3a9df82166e2",
   "metadata": {},
   "outputs": [],
   "source": [
    "# Function to remove illegal characters\n",
    "def remove_illegal_chars(value):\n",
    "    if isinstance(value, str):\n",
    "        return re.sub(r\"[\\x00-\\x1F\\x7F-\\x9F]\", \"\", value)\n",
    "    return value"
   ]
  },
  {
   "cell_type": "code",
   "execution_count": 4,
   "id": "d10226a8-9e33-45a5-808e-d331f56dfd89",
   "metadata": {},
   "outputs": [],
   "source": [
    "filtered_period_df = df[df[\"PERIOD\"] == period]"
   ]
  },
  {
   "cell_type": "code",
   "execution_count": 5,
   "id": "b8da31ce-2593-4962-8f80-4d64d39f6395",
   "metadata": {},
   "outputs": [],
   "source": [
    "# Clean the DataFrame to remove illegal characters\n",
    "filtered_period_df = filtered_period_df.map(remove_illegal_chars)"
   ]
  },
  {
   "cell_type": "code",
   "execution_count": 6,
   "id": "16f5fd7c-bbcf-4fe5-bee8-c1a977d0ce51",
   "metadata": {},
   "outputs": [],
   "source": [
    "columns_to_convert = [\n",
    "    \"Monthly Paymt/Adjustmt Amount\"\n",
    "]"
   ]
  },
  {
   "cell_type": "code",
   "execution_count": 7,
   "id": "0e5c34cc-be1d-4aa6-a079-bdba86788e3c",
   "metadata": {},
   "outputs": [],
   "source": [
    "# Define the groups for specific sheets\n",
    "sheet_groups = {\n",
    "    \"ACCESS\": [\"ACCESS IPA\"],\n",
    "    \"ACCESS PRIMARY CARE\": [\"ACCESS PRIMARY CARE MEDICAL GROUP\"],\n",
    "    \"ALLCARE\": [\"ALLCARE IPA\"],\n",
    "    \"Alliance\": [\"Alliance Health Systems\"],\n",
    "    \"AMERICAS\": [\"AMERICAS HEALTH PLAN\"],\n",
    "    \"ASCEND\": [\"ASCEND IPA INC\"],\n",
    "    \"CALIFORNIA\": [\"CALIFORNIA IPA\"],\n",
    "    \"CAPITAL HEALTH PHYSICIANS\": [\"CAPITAL HEALTH PHYSICIANS IPA\"],\n",
    "    \"CENTER IPA\": [\"CENTER IPA\"],\n",
    "    \"CLINICAS DE CAMINO REAL\": [\"CLINICAS DE CAMINO REAL\"],\n",
    "    \"CONCIERGE HMO\": [\"CONCIERGE HMO IPA\"],\n",
    "    \"DOCTORS MANAGED\": [\"DOCTORS MANAGED CARE IPA\"],\n",
    "    \"EasyAccess Care\": [\"EasyAccess Care IPA\"],\n",
    "    \"EQUALITY HEALTH\": [\"EQUALITY HEALTH NETWORK\"],\n",
    "    \"EXCEPTIONAL CARE\": [\"EXCEPTIONAL CARE MEDICAL GROUP\"],\n",
    "    \"FREEDOM PHYSICIANS\": [\"FREEDOM PHYSICIANS CORP\"],\n",
    "    \"HEALTH EXCEL\": [\"HEALTH EXCEL IPA\"],\n",
    "    \"HEALTH SMART\": [\"HEALTH SMART\"],\n",
    "    \"Hill Physicians\": [\"Hill Physicians IPA  SF\"],\n",
    "    \"IDEAL\": [\"IDEAL IPA\"],\n",
    "    \"IHHMG\": [\"IMPERIAL HEALTH HOLDINGS MEDICAL GROUP\"],\n",
    "    \"KERN\": [\"KERN PSYCHIATRIC HEALTH AND WELLNESS CTR\"],\n",
    "    \"MD PARTNERS\": [\"MD PARTNERS\"],\n",
    "    \"MEDCARE PARTNERS\": [\"MEDCARE PARTNERS\"],\n",
    "    \"MERIT\": [\"MERIT IPA\"],\n",
    "    \"NIVANO\": [\"NIVANO PHYSICIANS INC\"],\n",
    "    \"PHYSICIAN PARTNERS\": [\"PHYSICIAN PARTNERS IPA\"],\n",
    "    \"PCNC\": [\"PREMIER CARE OF NORTHERN CALIFORNIA\"],\n",
    "    \"PREMIER PATIENT CARE\": [\"PREMIER PATIENT CARE IPA INC\"],\n",
    "    \"PREMIERCARE\": [\"PREMIERCARE IPA\"],\n",
    "    \"RIVER CITY - VIVANT\": [\"RIVER CITY MED GRP (VIVANT HEALTH)\"],\n",
    "    \"SEOUL\": [\"SEOUL MEDICAL GROUP\"],\n",
    "    \"SOCAL HEALTH\": [\"SOCAL HEALTH INC\"],\n",
    "    \"STAR HEALTH\": [\"STAR HEALTH MEDICAL ASSOCIATES MEDICAL G\"],\n",
    "    \"UNIVERSAL HEALTHCARE\": [\"UNIVERSAL HEALTHCARE IPA, INC.\"],\n",
    "    \"VITRUVIAN\": [\"VITRUVIAN CARE INC\"]\n",
    "}"
   ]
  },
  {
   "cell_type": "code",
   "execution_count": 8,
   "id": "742df61f-b215-4b53-a1c0-56567090a46a",
   "metadata": {},
   "outputs": [
    {
     "name": "stderr",
     "output_type": "stream",
     "text": [
      "C:\\Users\\jason.lu\\AppData\\Local\\Temp\\ipykernel_18500\\2294903923.py:12: FutureWarning: errors='ignore' is deprecated and will raise in a future version. Use to_numeric without passing `errors` and catch exceptions explicitly instead\n",
      "  filtered_df[col] = pd.to_numeric(filtered_df[col], errors='ignore')  # Convert columns to numbers\n",
      "C:\\Users\\jason.lu\\AppData\\Local\\Temp\\ipykernel_18500\\2294903923.py:12: SettingWithCopyWarning: \n",
      "A value is trying to be set on a copy of a slice from a DataFrame.\n",
      "Try using .loc[row_indexer,col_indexer] = value instead\n",
      "\n",
      "See the caveats in the documentation: https://pandas.pydata.org/pandas-docs/stable/user_guide/indexing.html#returning-a-view-versus-a-copy\n",
      "  filtered_df[col] = pd.to_numeric(filtered_df[col], errors='ignore')  # Convert columns to numbers\n"
     ]
    },
    {
     "name": "stdout",
     "output_type": "stream",
     "text": [
      "Data has been saved to 'output.xlsx'.\n"
     ]
    }
   ],
   "source": [
    "# Save the results to an Excel file\n",
    "with pd.ExcelWriter(\"output.xlsx\", engine=\"openpyxl\") as writer:\n",
    "    # Write the filtered data to a new sheet named ex: \"202501\"\n",
    "    filtered_period_df.to_excel(writer, sheet_name= sheetname, index=False)\n",
    "\n",
    "    # Write each specific group to its own sheet\n",
    "    for sheet_name, ipa_list in sheet_groups.items():\n",
    "        filtered_df = filtered_period_df[filtered_period_df[\"IPA\"].isin(ipa_list)]\n",
    "\n",
    "        # Convert specified columns to numeric\n",
    "        for col in columns_to_convert:\n",
    "            filtered_df[col] = pd.to_numeric(filtered_df[col], errors='ignore')  # Convert columns to numbers\n",
    "        \n",
    "        # Write the filtered data to the sheet\n",
    "        filtered_df.to_excel(writer, sheet_name=sheet_name, index=False)\n",
    "\n",
    "print(\"Data has been saved to 'output.xlsx'.\")"
   ]
  }
 ],
 "metadata": {
  "kernelspec": {
   "display_name": "base",
   "language": "python",
   "name": "python3"
  },
  "language_info": {
   "codemirror_mode": {
    "name": "ipython",
    "version": 3
   },
   "file_extension": ".py",
   "mimetype": "text/x-python",
   "name": "python",
   "nbconvert_exporter": "python",
   "pygments_lexer": "ipython3",
   "version": "3.12.7"
  }
 },
 "nbformat": 4,
 "nbformat_minor": 5
}
